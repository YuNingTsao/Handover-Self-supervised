{
 "cells": [
  {
   "cell_type": "markdown",
   "metadata": {},
   "source": [
    "Mutil Mean Teacher\n",
    "\n",
    "original\n",
    "FAICG_FA_FA\n",
    "\n",
    "backbone=DeeplabV3+"
   ]
  },
  {
   "cell_type": "code",
   "execution_count": 1,
   "metadata": {},
   "outputs": [
    {
     "name": "stderr",
     "output_type": "stream",
     "text": [
      "/home/cvrlab308/anaconda3/envs/ps-mt/lib/python3.7/site-packages/tqdm/auto.py:22: TqdmWarning: IProgress not found. Please update jupyter and ipywidgets. See https://ipywidgets.readthedocs.io/en/stable/user_install.html\n",
      "  from .autonotebook import tqdm as notebook_tqdm\n"
     ]
    }
   ],
   "source": [
    "import os\n",
    "import json\n",
    "import logging\n",
    "import copy\n",
    "import shutil\n",
    "import time\n",
    "\n",
    "from tqdm import tqdm\n",
    "\n",
    "import cv2\n",
    "import numpy as np\n",
    "from PIL import Image\n",
    "\n",
    "import torch\n",
    "from torch.utils.data import DataLoader\n",
    "from torch.utils.data.sampler import SubsetRandomSampler\n",
    "import torch.nn\n",
    "import torch.nn.functional as F\n",
    "from torch.nn.parallel import DistributedDataParallel as DDP\n",
    "import torch.distributed as dist\n",
    "\n",
    "from torchvision import transforms\n",
    "from torchvision.transforms import functional as F\n",
    "\n",
    "from math import ceil\n",
    "from itertools import cycle\n",
    "from itertools import chain\n",
    "from collections import OrderedDict\n",
    "from functools import partial\n",
    "\n",
    "import matplotlib.pyplot as plt\n",
    "import seaborn as sns\n",
    "\n",
    "import random\n",
    "random.seed(42)\n",
    "\n",
    "import gc"
   ]
  },
  {
   "cell_type": "code",
   "execution_count": 2,
   "metadata": {},
   "outputs": [
    {
     "name": "stderr",
     "output_type": "stream",
     "text": [
      "Training start, 总共 80 epochs\n",
      "GPUs: cuda\n",
      "DeeplabV3+ with ResNet 101 backbone\n",
      "Current Labeled Example: 515\n",
      "Learning rate: other 0.01, and head is the SAME [world]\n",
      "Current batch: 16 [world]\n",
      "Current unsupervised loss function: semi_ce, with weight 1.5 and length 12\n"
     ]
    },
    {
     "name": "stdout",
     "output_type": "stream",
     "text": [
      "\n",
      "config json :\n",
      "name PS-MT(DeeplabV3+)\n",
      "experim_name TEST_warm\n",
      "n_labeled_examples 515\n",
      "ramp_up 12\n",
      "unsupervised_w 1.5\n",
      "lr_scheduler Poly\n",
      "gamma 0.5\n",
      "model {'supervised': False, 'semi': True, 'resnet': 101, 'sup_loss': 'DE', 'un_loss': 'semi_ce', 'epochs': 80, 'warm_up_epoch': 100, 'data_h_w': [224, 224]}\n",
      "optimizer {'type': 'SGD', 'args': {'lr': 0.01, 'weight_decay': 0.0001, 'momentum': 0.9}}\n",
      "train_supervised {'data_dir': 'FA', 'batch_size': 8, 'shuffle': True, 'crop_size': 224, 'split': 'train_supervised', 'num_workers': 8}\n",
      "train_unsupervised {'data_dir': 'range_unFA', 'batch_size': 8, 'shuffle': True, 'crop_size': 224, 'split': 'train_unsupervised', 'num_workers': 8}\n",
      "val_loader {'data_dir': 'FA', 'batch_size': 1, 'split': 'val', 'shuffle': False, 'num_workers': 4}\n",
      "test_loader {'data_dir': 'FA', 'batch_size': 1, 'split': 'test', 'shuffle': False, 'num_workers': 4}\n"
     ]
    }
   ],
   "source": [
    "#config\n",
    "batch_size = 8\n",
    "epochs = 80\n",
    "warm_up = 100\n",
    "labeled_examples = 515\n",
    "lr = 1e-2\n",
    "backbone = 101 #\" the resnet x {50, 101} layers\"\n",
    "semi_p_th = 0.6 # positive_threshold for semi-supervised loss\n",
    "semi_n_th = 0.0 # negative_threshold for semi-supervised loss\n",
    "unsup_weight = 1.5 # unsupervised weight for the semi-supervised loss\n",
    "\n",
    "config = json.load(open(\"configs/config_deeplab_v3+_onlyFA_range.json\"))\n",
    "\n",
    "config['train_supervised']['batch_size'] = batch_size\n",
    "config['train_unsupervised']['batch_size'] = batch_size\n",
    "config['model']['epochs'] = epochs\n",
    "config['model']['warm_up_epoch'] = warm_up\n",
    "config['n_labeled_examples'] = labeled_examples\n",
    "config['model']['resnet'] = backbone\n",
    "config['optimizer']['args']['lr'] = lr\n",
    "config['unsupervised_w'] = unsup_weight\n",
    "config['model']['data_h_w'] = [config['train_supervised']['crop_size'], config['train_supervised']['crop_size']]\n",
    "\n",
    "device = torch.device('cuda' if torch.cuda.is_available() else 'cpu')\n",
    "\n",
    "logger = logging.getLogger(\"PS-MT\")\n",
    "logger.propagate = False\n",
    "logger.warning(\"Training start, 总共 {} epochs\".format(str(config['model']['epochs'])))\n",
    "logger.critical(\"GPUs: {}\".format(device))\n",
    "logger.critical(\"DeeplabV3+ with ResNet {} backbone\".format(str(config['model']['resnet'])))\n",
    "logger.critical(\"Current Labeled Example: {}\".format(config['n_labeled_examples']))\n",
    "logger.critical(\"Learning rate: other {}, and head is the SAME [world]\".format(config['optimizer']['args']['lr']))\n",
    "\n",
    "logger.critical(\"Current batch: {} [world]\".format(int(config['train_unsupervised']['batch_size']) +\n",
    "                                                int(config['train_supervised']['batch_size'])) )\n",
    "\n",
    "logger.critical(\"Current unsupervised loss function: {}, with weight {} and length {}\".format(config['model']['un_loss'],\n",
    "                                                                                            config['unsupervised_w'],\n",
    "                                                                                            config['ramp_up']))\n",
    "print(\"\\nconfig json :\")\n",
    "for i in config:\n",
    "    print(i, config[i])\n"
   ]
  },
  {
   "cell_type": "code",
   "execution_count": 3,
   "metadata": {},
   "outputs": [
    {
     "name": "stdout",
     "output_type": "stream",
     "text": [
      "train_supervised\n",
      "     data_dir : FA\n",
      "     batch_size : 8\n",
      "     shuffle : True\n",
      "     crop_size : 224\n",
      "     split : train_supervised\n",
      "     num_workers : 8\n",
      "     choose : All\n",
      "train_unsupervised\n",
      "     data_dir : range_unFA\n",
      "     batch_size : 8\n",
      "     shuffle : True\n",
      "     crop_size : 224\n",
      "     split : train_unsupervised\n",
      "     num_workers : 8\n",
      "     choose : All\n",
      "val_loader\n",
      "     data_dir : FA\n",
      "     batch_size : 1\n",
      "     split : val\n",
      "     shuffle : False\n",
      "     num_workers : 4\n",
      "     choose : All\n",
      "test_loader\n",
      "     data_dir : FA\n",
      "     batch_size : 1\n",
      "     split : test\n",
      "     shuffle : False\n",
      "     num_workers : 4\n",
      "     choose : All\n",
      "supervised_loader:  515\n",
      "unsupervised_loader:  5263\n",
      "val_loader:  162\n",
      "test_loader:  157\n"
     ]
    }
   ],
   "source": [
    "# DATA LOADERS\n",
    "from DataLoader.dataset_onlyFA import *\n",
    "choose_data = \"All\"\n",
    "\n",
    "config['train_supervised']['choose'] = choose_data\n",
    "config['train_unsupervised']['choose'] = choose_data\n",
    "config['val_loader']['choose'] = choose_data\n",
    "config['test_loader']['choose'] = choose_data\n",
    "\n",
    "print(\"train_supervised\")\n",
    "for i in config['train_supervised']:\n",
    "    print(\"    \",i, \":\", config['train_supervised'][i])\n",
    "print(\"train_unsupervised\")\n",
    "for i in config['train_unsupervised']:\n",
    "    print(\"    \", i, \":\", config['train_unsupervised'][i])\n",
    "print(\"val_loader\")\n",
    "for i in config['val_loader']:\n",
    "    print(\"    \", i, \":\", config['val_loader'][i])\n",
    "print(\"test_loader\")\n",
    "for i in config['test_loader']:\n",
    "    print(\"    \", i, \":\", config['test_loader'][i])\n",
    "\n",
    "supervised_set = BasicDataset(data_dir=config['train_supervised']['data_dir'], \n",
    "                                 choose=config['train_supervised']['choose'],\n",
    "                                 split=config['train_supervised']['split'])\n",
    "unsupervised_set = BasicDataset(data_dir=config['train_unsupervised']['data_dir'],\n",
    "                                   choose=config['train_unsupervised']['choose'],\n",
    "                                   split=config['train_unsupervised']['split'])\n",
    "val_set = BasicDataset(data_dir=config['val_loader']['data_dir'],\n",
    "                          choose=config['val_loader']['choose'],\n",
    "                          split=config['val_loader']['split'])\n",
    "\n",
    "test_set = BasicDataset(data_dir=config['test_loader']['data_dir'],\n",
    "                          choose=config['test_loader']['choose'],\n",
    "                          split=config['test_loader']['split'])\n",
    "\n",
    "print(\"supervised_loader: \",len(supervised_set))\n",
    "print(\"unsupervised_loader: \",len(unsupervised_set))\n",
    "print(\"val_loader: \",len(val_set))\n",
    "print(\"test_loader: \",len(test_set))\n",
    "\n",
    "\n",
    "supervised_loader = DataLoader(dataset=supervised_set, batch_size=config['train_supervised']['batch_size'],\n",
    "                               shuffle=config['train_supervised']['shuffle'], \n",
    "                               num_workers=config['train_supervised']['num_workers'])\n",
    "unsupervised_loader = DataLoader(dataset=unsupervised_set, batch_size=config['train_unsupervised']['batch_size'],\n",
    "                               shuffle=config['train_unsupervised']['shuffle'], \n",
    "                               num_workers=config['train_unsupervised']['num_workers'])\n",
    "val_loader = DataLoader(dataset=val_set, batch_size=config['val_loader']['batch_size'],\n",
    "                               shuffle=config['val_loader']['shuffle'], \n",
    "                               num_workers=config['val_loader']['num_workers'])\n",
    "test_loader = DataLoader(dataset=test_set, batch_size=config['test_loader']['batch_size'],\n",
    "                               shuffle=config['test_loader']['shuffle'], \n",
    "                               num_workers=config['test_loader']['num_workers'])\n",
    "\n"
   ]
  },
  {
   "cell_type": "code",
   "execution_count": 4,
   "metadata": {},
   "outputs": [
    {
     "name": "stdout",
     "output_type": "stream",
     "text": [
      "Load model, Time usage:\n",
      "\tIO: 1.0073959827423096, initialize parameters: 0.03242826461791992\n"
     ]
    }
   ],
   "source": [
    "#model setting (1 teacher + 1 student)\n",
    "from torch import optim\n",
    "\n",
    "from Model.Deeplabv3_plus.psmt_model import *\n",
    "from Utils.ramps import *\n",
    "\n",
    "cons_w_unsup = ConsistencyWeight(final_w=config['unsupervised_w'], iters_per_epoch=len(unsupervised_loader),\n",
    "                                 rampup_starts=0, rampup_ends=config['ramp_up'],  ramp_type=\"cosine_rampup\")\n",
    "\n",
    "\n",
    "model_t1 = Teacher_Net(num_classes=2, config=config['model'])\n",
    "model_t1 = model_t1.to(device)\n",
    "\n",
    "model_s = Student_Net(num_classes=2, config=config['model'],  cons_w_unsup=cons_w_unsup)\n",
    "model_s = model_s.to(device)\n",
    "\n",
    "optimizer_t1 = optim.SGD(model_t1.parameters(), \n",
    "                      lr=config['optimizer']['args']['lr'],\n",
    "                      momentum=config['optimizer']['args']['momentum'],\n",
    "                      weight_decay=config['optimizer']['args']['weight_decay'])\n",
    "\n",
    "optimizer_s = optim.SGD(model_s.parameters(), \n",
    "                      lr=config['optimizer']['args']['lr'],\n",
    "                      momentum=config['optimizer']['args']['momentum'],\n",
    "                      weight_decay=config['optimizer']['args']['weight_decay'])"
   ]
  },
  {
   "cell_type": "code",
   "execution_count": null,
   "metadata": {},
   "outputs": [],
   "source": []
  },
  {
   "cell_type": "code",
   "execution_count": 5,
   "metadata": {},
   "outputs": [],
   "source": [
    "#calculate metrics\n",
    "from sklearn import metrics, neighbors\n",
    "from sklearn.metrics import confusion_matrix\n",
    "\n",
    "#compute mean IoU & DSC  of given outputs & targets per patient (5 time points)\n",
    "def information_index(outputs, targets):\n",
    "    eps = np.finfo(np.float64).eps\n",
    "    output = outputs.flatten()\n",
    "    target = targets.flatten()\n",
    "    TN, FP, FN, TP = confusion_matrix(target,output).ravel()\n",
    "\n",
    "    index_MIou =  ( TP / (TP + FP + FN + eps) + TN / (TN + FN + FP + eps) ) / 2\n",
    "    mean_iou = np.mean(index_MIou)\n",
    "    index_dice = 2*TP / (2*TP + FP + FN + eps)\n",
    "    mean_dice = np.mean(index_dice)\n",
    "\n",
    "    return mean_iou, mean_dice\n",
    "\n",
    "#compute mean IoU & DSC of validaton (test set)\n",
    "def count_index(pre, tar):\n",
    "        path_pre = pre\n",
    "        path_target = tar\n",
    "        dirs = os.listdir(path_pre)\n",
    "        # print(len(dirs))\n",
    "        con_mIOU = 0\n",
    "        con_mdice = 0\n",
    "        for imgs in dirs:\n",
    "            pre_path = path_pre + '/' + str(imgs)\n",
    "            target_path = path_target + '/' + str(imgs)\n",
    "\n",
    "            target = cv2.imread(target_path, cv2.IMREAD_GRAYSCALE)\n",
    "            _, tar = cv2.threshold(target, 128, 255, cv2.THRESH_BINARY)\n",
    "\n",
    "            predict = cv2.imread(pre_path, cv2.IMREAD_GRAYSCALE)\n",
    "            _, pre = cv2.threshold(predict, 128, 255, cv2.THRESH_BINARY)\n",
    "\n",
    "            tIOU, tdice = information_index(pre,tar)\n",
    "            con_mIOU += tIOU\n",
    "            con_mdice += tdice\n",
    "        val_mIoU = con_mIOU/len(dirs)\n",
    "        val_mDice = con_mdice/len(dirs)\n",
    "        \n",
    "        return val_mIoU, val_mDice"
   ]
  },
  {
   "cell_type": "code",
   "execution_count": 6,
   "metadata": {},
   "outputs": [],
   "source": [
    "# from medpy import metric\n",
    "# def calculate_metric_percase(pred, gt):\n",
    "#     pred[pred > 0] = 1\n",
    "#     gt[gt > 0] = 1\n",
    "#     if pred.sum() > 0:\n",
    "#         dice = metric.binary.dc(pred, gt)\n",
    "#         hd95 = metric.binary.hd95(pred, gt)\n",
    "#         return dice, hd95\n",
    "#     else:\n",
    "#         return 0, 0\n",
    "# def test_single_volume(label, output, classes=2):\n",
    "#     label = torch.clamp(label, 0, 1)\n",
    "#     label = label.squeeze(0).cpu().detach().numpy()\n",
    "#     output = output.cpu().detach().numpy()\n",
    "#     metric_list = []\n",
    "#     for i in range(1, classes):\n",
    "#         metric_list.append(calculate_metric_percase(\n",
    "#             output == i, label == i))\n",
    "    \n",
    "#     return metric_list"
   ]
  },
  {
   "cell_type": "code",
   "execution_count": 7,
   "metadata": {},
   "outputs": [
    {
     "name": "stdout",
     "output_type": "stream",
     "text": [
      "Epoch: 1/100 --- < Starting Time : Tue Aug 13 14:26:00 2024 >\n",
      "-------------------------------------------------------------\n"
     ]
    },
    {
     "name": "stderr",
     "output_type": "stream",
     "text": [
      "100%|██████████| 65/65 [00:08<00:00,  7.54it/s]\n"
     ]
    },
    {
     "name": "stdout",
     "output_type": "stream",
     "text": [
      "Epoch1 loss : \n",
      "teacher 1 loss = 0.04230799153447151,student loss = 0.029643038287758827\n",
      "Epoch: 2/100 --- < Starting Time : Tue Aug 13 14:26:19 2024 >\n",
      "-------------------------------------------------------------\n"
     ]
    },
    {
     "name": "stderr",
     "output_type": "stream",
     "text": [
      "100%|██████████| 65/65 [00:07<00:00,  8.44it/s]\n"
     ]
    },
    {
     "name": "stdout",
     "output_type": "stream",
     "text": [
      "Epoch2 loss : \n",
      "teacher 1 loss = 0.033194661140441895,student loss = 0.014235884882509708\n",
      "Epoch: 3/100 --- < Starting Time : Tue Aug 13 14:26:37 2024 >\n",
      "-------------------------------------------------------------\n"
     ]
    },
    {
     "name": "stderr",
     "output_type": "stream",
     "text": [
      "100%|██████████| 65/65 [00:07<00:00,  8.43it/s]\n"
     ]
    },
    {
     "name": "stdout",
     "output_type": "stream",
     "text": [
      "Epoch3 loss : \n",
      "teacher 1 loss = 0.03075830452144146,student loss = 0.010624725371599197\n",
      "Epoch: 4/100 --- < Starting Time : Tue Aug 13 14:26:55 2024 >\n",
      "-------------------------------------------------------------\n"
     ]
    },
    {
     "name": "stderr",
     "output_type": "stream",
     "text": [
      "100%|██████████| 65/65 [00:07<00:00,  8.42it/s]\n"
     ]
    },
    {
     "name": "stdout",
     "output_type": "stream",
     "text": [
      "Epoch4 loss : \n",
      "teacher 1 loss = 0.027949031442403793,student loss = 0.009253444150090218\n",
      "Epoch: 5/100 --- < Starting Time : Tue Aug 13 14:27:13 2024 >\n",
      "-------------------------------------------------------------\n"
     ]
    },
    {
     "name": "stderr",
     "output_type": "stream",
     "text": [
      "100%|██████████| 65/65 [00:07<00:00,  8.48it/s]\n"
     ]
    },
    {
     "name": "stdout",
     "output_type": "stream",
     "text": [
      "Epoch5 loss : \n",
      "teacher 1 loss = 0.025159431621432304,student loss = 0.007280655205249786\n",
      "Epoch: 6/100 --- < Starting Time : Tue Aug 13 14:27:31 2024 >\n",
      "-------------------------------------------------------------\n"
     ]
    },
    {
     "name": "stderr",
     "output_type": "stream",
     "text": [
      "100%|██████████| 65/65 [00:07<00:00,  8.56it/s]\n"
     ]
    },
    {
     "name": "stdout",
     "output_type": "stream",
     "text": [
      "Epoch6 loss : \n",
      "teacher 1 loss = 0.021464068442583084,student loss = 0.006096147000789642\n",
      "Epoch: 7/100 --- < Starting Time : Tue Aug 13 14:27:48 2024 >\n",
      "-------------------------------------------------------------\n"
     ]
    },
    {
     "name": "stderr",
     "output_type": "stream",
     "text": [
      "100%|██████████| 65/65 [00:07<00:00,  8.54it/s]\n"
     ]
    },
    {
     "name": "stdout",
     "output_type": "stream",
     "text": [
      "Epoch7 loss : \n",
      "teacher 1 loss = 0.02048063464462757,student loss = 0.00581568805500865\n",
      "Epoch: 8/100 --- < Starting Time : Tue Aug 13 14:28:06 2024 >\n",
      "-------------------------------------------------------------\n"
     ]
    },
    {
     "name": "stderr",
     "output_type": "stream",
     "text": [
      "100%|██████████| 65/65 [00:07<00:00,  8.62it/s]\n"
     ]
    },
    {
     "name": "stdout",
     "output_type": "stream",
     "text": [
      "Epoch8 loss : \n",
      "teacher 1 loss = 0.018916551023721695,student loss = 0.005946884397417307\n",
      "Epoch: 9/100 --- < Starting Time : Tue Aug 13 14:28:24 2024 >\n",
      "-------------------------------------------------------------\n"
     ]
    },
    {
     "name": "stderr",
     "output_type": "stream",
     "text": [
      "100%|██████████| 65/65 [00:07<00:00,  8.61it/s]\n"
     ]
    },
    {
     "name": "stdout",
     "output_type": "stream",
     "text": [
      "Epoch9 loss : \n",
      "teacher 1 loss = 0.016780897974967957,student loss = 0.005225147120654583\n",
      "Epoch: 10/100 --- < Starting Time : Tue Aug 13 14:28:42 2024 >\n",
      "--------------------------------------------------------------\n"
     ]
    },
    {
     "name": "stderr",
     "output_type": "stream",
     "text": [
      "100%|██████████| 65/65 [00:07<00:00,  8.61it/s]\n"
     ]
    },
    {
     "name": "stdout",
     "output_type": "stream",
     "text": [
      "Epoch10 loss : \n",
      "teacher 1 loss = 0.01386942621320486,student loss = 0.0046220337972044945\n",
      "Epoch: 11/100 --- < Starting Time : Tue Aug 13 14:29:00 2024 >\n",
      "--------------------------------------------------------------\n"
     ]
    },
    {
     "name": "stderr",
     "output_type": "stream",
     "text": [
      "100%|██████████| 65/65 [00:07<00:00,  8.58it/s]\n"
     ]
    },
    {
     "name": "stdout",
     "output_type": "stream",
     "text": [
      "Epoch11 loss : \n",
      "teacher 1 loss = 0.012473135255277157,student loss = 0.004267718642950058\n",
      "Epoch: 12/100 --- < Starting Time : Tue Aug 13 14:29:17 2024 >\n",
      "--------------------------------------------------------------\n"
     ]
    },
    {
     "name": "stderr",
     "output_type": "stream",
     "text": [
      "100%|██████████| 65/65 [00:07<00:00,  8.54it/s]\n"
     ]
    },
    {
     "name": "stdout",
     "output_type": "stream",
     "text": [
      "Epoch12 loss : \n",
      "teacher 1 loss = 0.011685425415635109,student loss = 0.004053571727126837\n",
      "Epoch: 13/100 --- < Starting Time : Tue Aug 13 14:29:35 2024 >\n",
      "--------------------------------------------------------------\n"
     ]
    },
    {
     "name": "stderr",
     "output_type": "stream",
     "text": [
      "100%|██████████| 65/65 [00:07<00:00,  8.53it/s]\n"
     ]
    },
    {
     "name": "stdout",
     "output_type": "stream",
     "text": [
      "Epoch13 loss : \n",
      "teacher 1 loss = 0.009935845620930195,student loss = 0.0038674138486385345\n",
      "Epoch: 14/100 --- < Starting Time : Tue Aug 13 14:29:53 2024 >\n",
      "--------------------------------------------------------------\n"
     ]
    },
    {
     "name": "stderr",
     "output_type": "stream",
     "text": [
      "100%|██████████| 65/65 [00:07<00:00,  8.54it/s]\n"
     ]
    },
    {
     "name": "stdout",
     "output_type": "stream",
     "text": [
      "Epoch14 loss : \n",
      "teacher 1 loss = 0.007917976006865501,student loss = 0.003721783170476556\n",
      "Epoch: 15/100 --- < Starting Time : Tue Aug 13 14:30:11 2024 >\n",
      "--------------------------------------------------------------\n"
     ]
    },
    {
     "name": "stderr",
     "output_type": "stream",
     "text": [
      "100%|██████████| 65/65 [00:07<00:00,  8.57it/s]\n"
     ]
    },
    {
     "name": "stdout",
     "output_type": "stream",
     "text": [
      "Epoch15 loss : \n",
      "teacher 1 loss = 0.006693030707538128,student loss = 0.003494328586384654\n",
      "Epoch: 16/100 --- < Starting Time : Tue Aug 13 14:30:29 2024 >\n",
      "--------------------------------------------------------------\n"
     ]
    },
    {
     "name": "stderr",
     "output_type": "stream",
     "text": [
      "100%|██████████| 65/65 [00:07<00:00,  8.53it/s]\n"
     ]
    },
    {
     "name": "stdout",
     "output_type": "stream",
     "text": [
      "Epoch16 loss : \n",
      "teacher 1 loss = 0.006309970747679472,student loss = 0.0033766082488000393\n",
      "Epoch: 17/100 --- < Starting Time : Tue Aug 13 14:30:47 2024 >\n",
      "--------------------------------------------------------------\n"
     ]
    },
    {
     "name": "stderr",
     "output_type": "stream",
     "text": [
      "100%|██████████| 65/65 [00:07<00:00,  8.50it/s]\n"
     ]
    },
    {
     "name": "stdout",
     "output_type": "stream",
     "text": [
      "Epoch17 loss : \n",
      "teacher 1 loss = 0.006149244029074907,student loss = 0.003411476267501712\n",
      "Epoch: 18/100 --- < Starting Time : Tue Aug 13 14:31:05 2024 >\n",
      "--------------------------------------------------------------\n"
     ]
    },
    {
     "name": "stderr",
     "output_type": "stream",
     "text": [
      "100%|██████████| 65/65 [00:07<00:00,  8.48it/s]\n"
     ]
    },
    {
     "name": "stdout",
     "output_type": "stream",
     "text": [
      "Epoch18 loss : \n",
      "teacher 1 loss = 0.005906295962631702,student loss = 0.0032902806997299194\n",
      "Epoch: 19/100 --- < Starting Time : Tue Aug 13 14:31:22 2024 >\n",
      "--------------------------------------------------------------\n"
     ]
    },
    {
     "name": "stderr",
     "output_type": "stream",
     "text": [
      "100%|██████████| 65/65 [00:07<00:00,  8.47it/s]\n"
     ]
    },
    {
     "name": "stdout",
     "output_type": "stream",
     "text": [
      "Epoch19 loss : \n",
      "teacher 1 loss = 0.0059502036310732365,student loss = 0.0032758554443717003\n",
      "Epoch: 20/100 --- < Starting Time : Tue Aug 13 14:31:40 2024 >\n",
      "--------------------------------------------------------------\n"
     ]
    },
    {
     "name": "stderr",
     "output_type": "stream",
     "text": [
      "100%|██████████| 65/65 [00:07<00:00,  8.61it/s]\n"
     ]
    },
    {
     "name": "stdout",
     "output_type": "stream",
     "text": [
      "Epoch20 loss : \n",
      "teacher 1 loss = 0.005530723370611668,student loss = 0.0031273390632122755\n",
      "Epoch: 21/100 --- < Starting Time : Tue Aug 13 14:31:58 2024 >\n",
      "--------------------------------------------------------------\n"
     ]
    },
    {
     "name": "stderr",
     "output_type": "stream",
     "text": [
      "100%|██████████| 65/65 [00:07<00:00,  8.58it/s]\n"
     ]
    },
    {
     "name": "stdout",
     "output_type": "stream",
     "text": [
      "Epoch21 loss : \n",
      "teacher 1 loss = 0.006185369100421667,student loss = 0.003277196316048503\n",
      "Epoch: 22/100 --- < Starting Time : Tue Aug 13 14:32:16 2024 >\n",
      "--------------------------------------------------------------\n"
     ]
    },
    {
     "name": "stderr",
     "output_type": "stream",
     "text": [
      "100%|██████████| 65/65 [00:07<00:00,  8.54it/s]\n"
     ]
    },
    {
     "name": "stdout",
     "output_type": "stream",
     "text": [
      "Epoch22 loss : \n",
      "teacher 1 loss = 0.004811024758964777,student loss = 0.0029972095508128405\n",
      "Epoch: 23/100 --- < Starting Time : Tue Aug 13 14:32:34 2024 >\n",
      "--------------------------------------------------------------\n"
     ]
    },
    {
     "name": "stderr",
     "output_type": "stream",
     "text": [
      "100%|██████████| 65/65 [00:07<00:00,  8.60it/s]\n"
     ]
    },
    {
     "name": "stdout",
     "output_type": "stream",
     "text": [
      "Epoch23 loss : \n",
      "teacher 1 loss = 0.004666403401643038,student loss = 0.002971774898469448\n",
      "Epoch: 24/100 --- < Starting Time : Tue Aug 13 14:32:52 2024 >\n",
      "--------------------------------------------------------------\n"
     ]
    },
    {
     "name": "stderr",
     "output_type": "stream",
     "text": [
      "100%|██████████| 65/65 [00:07<00:00,  8.55it/s]\n"
     ]
    },
    {
     "name": "stdout",
     "output_type": "stream",
     "text": [
      "Epoch24 loss : \n",
      "teacher 1 loss = 0.004473497159779072,student loss = 0.002836960833519697\n",
      "Epoch: 25/100 --- < Starting Time : Tue Aug 13 14:33:10 2024 >\n",
      "--------------------------------------------------------------\n"
     ]
    },
    {
     "name": "stderr",
     "output_type": "stream",
     "text": [
      "100%|██████████| 65/65 [00:07<00:00,  8.47it/s]\n"
     ]
    },
    {
     "name": "stdout",
     "output_type": "stream",
     "text": [
      "Epoch25 loss : \n",
      "teacher 1 loss = 0.004073349758982658,student loss = 0.002674855524674058\n",
      "Epoch: 26/100 --- < Starting Time : Tue Aug 13 14:33:28 2024 >\n",
      "--------------------------------------------------------------\n"
     ]
    },
    {
     "name": "stderr",
     "output_type": "stream",
     "text": [
      "100%|██████████| 65/65 [00:07<00:00,  8.54it/s]\n"
     ]
    },
    {
     "name": "stdout",
     "output_type": "stream",
     "text": [
      "Epoch26 loss : \n",
      "teacher 1 loss = 0.004135705530643463,student loss = 0.002655591582879424\n",
      "Epoch: 27/100 --- < Starting Time : Tue Aug 13 14:33:46 2024 >\n",
      "--------------------------------------------------------------\n"
     ]
    },
    {
     "name": "stderr",
     "output_type": "stream",
     "text": [
      "100%|██████████| 65/65 [00:07<00:00,  8.54it/s]\n"
     ]
    },
    {
     "name": "stdout",
     "output_type": "stream",
     "text": [
      "Epoch27 loss : \n",
      "teacher 1 loss = 0.0040905713103711605,student loss = 0.002590848132967949\n",
      "Epoch: 28/100 --- < Starting Time : Tue Aug 13 14:34:04 2024 >\n",
      "--------------------------------------------------------------\n"
     ]
    },
    {
     "name": "stderr",
     "output_type": "stream",
     "text": [
      "100%|██████████| 65/65 [00:07<00:00,  8.51it/s]\n"
     ]
    },
    {
     "name": "stdout",
     "output_type": "stream",
     "text": [
      "Epoch28 loss : \n",
      "teacher 1 loss = 0.003818752244114876,student loss = 0.0025830399245023727\n",
      "Epoch: 29/100 --- < Starting Time : Tue Aug 13 14:34:22 2024 >\n",
      "--------------------------------------------------------------\n"
     ]
    },
    {
     "name": "stderr",
     "output_type": "stream",
     "text": [
      "100%|██████████| 65/65 [00:07<00:00,  8.59it/s]\n"
     ]
    },
    {
     "name": "stdout",
     "output_type": "stream",
     "text": [
      "Epoch29 loss : \n",
      "teacher 1 loss = 0.003638321068137884,student loss = 0.002492950763553381\n",
      "Epoch: 30/100 --- < Starting Time : Tue Aug 13 14:34:39 2024 >\n",
      "--------------------------------------------------------------\n"
     ]
    },
    {
     "name": "stderr",
     "output_type": "stream",
     "text": [
      "100%|██████████| 65/65 [00:07<00:00,  8.59it/s]\n"
     ]
    },
    {
     "name": "stdout",
     "output_type": "stream",
     "text": [
      "Epoch30 loss : \n",
      "teacher 1 loss = 0.0034551064018160105,student loss = 0.0024460142012685537\n",
      "Epoch: 31/100 --- < Starting Time : Tue Aug 13 14:34:57 2024 >\n",
      "--------------------------------------------------------------\n"
     ]
    },
    {
     "name": "stderr",
     "output_type": "stream",
     "text": [
      "100%|██████████| 65/65 [00:07<00:00,  8.59it/s]\n"
     ]
    },
    {
     "name": "stdout",
     "output_type": "stream",
     "text": [
      "Epoch31 loss : \n",
      "teacher 1 loss = 0.0035080169327557087,student loss = 0.0024342213291674852\n",
      "Epoch: 32/100 --- < Starting Time : Tue Aug 13 14:35:15 2024 >\n",
      "--------------------------------------------------------------\n"
     ]
    },
    {
     "name": "stderr",
     "output_type": "stream",
     "text": [
      "100%|██████████| 65/65 [00:07<00:00,  8.55it/s]\n"
     ]
    },
    {
     "name": "stdout",
     "output_type": "stream",
     "text": [
      "Epoch32 loss : \n",
      "teacher 1 loss = 0.003371230326592922,student loss = 0.002356921788305044\n",
      "Epoch: 33/100 --- < Starting Time : Tue Aug 13 14:35:33 2024 >\n",
      "--------------------------------------------------------------\n"
     ]
    },
    {
     "name": "stderr",
     "output_type": "stream",
     "text": [
      "100%|██████████| 65/65 [00:07<00:00,  8.63it/s]\n"
     ]
    },
    {
     "name": "stdout",
     "output_type": "stream",
     "text": [
      "Epoch33 loss : \n",
      "teacher 1 loss = 0.003291322151198983,student loss = 0.002383887069299817\n",
      "Epoch: 34/100 --- < Starting Time : Tue Aug 13 14:35:51 2024 >\n",
      "--------------------------------------------------------------\n"
     ]
    },
    {
     "name": "stderr",
     "output_type": "stream",
     "text": [
      "100%|██████████| 65/65 [00:07<00:00,  8.54it/s]\n"
     ]
    },
    {
     "name": "stdout",
     "output_type": "stream",
     "text": [
      "Epoch34 loss : \n",
      "teacher 1 loss = 0.0031447489745914936,student loss = 0.0022966095712035894\n",
      "Epoch: 35/100 --- < Starting Time : Tue Aug 13 14:36:09 2024 >\n",
      "--------------------------------------------------------------\n"
     ]
    },
    {
     "name": "stderr",
     "output_type": "stream",
     "text": [
      "100%|██████████| 65/65 [00:07<00:00,  8.54it/s]\n"
     ]
    },
    {
     "name": "stdout",
     "output_type": "stream",
     "text": [
      "Epoch35 loss : \n",
      "teacher 1 loss = 0.0031403463799506426,student loss = 0.0023027395363897085\n",
      "Epoch: 36/100 --- < Starting Time : Tue Aug 13 14:36:26 2024 >\n",
      "--------------------------------------------------------------\n"
     ]
    },
    {
     "name": "stderr",
     "output_type": "stream",
     "text": [
      "100%|██████████| 65/65 [00:07<00:00,  8.56it/s]\n"
     ]
    },
    {
     "name": "stdout",
     "output_type": "stream",
     "text": [
      "Epoch36 loss : \n",
      "teacher 1 loss = 0.003082557348534465,student loss = 0.002203643787652254\n",
      "Epoch: 37/100 --- < Starting Time : Tue Aug 13 14:36:44 2024 >\n",
      "--------------------------------------------------------------\n"
     ]
    },
    {
     "name": "stderr",
     "output_type": "stream",
     "text": [
      "100%|██████████| 65/65 [00:07<00:00,  8.53it/s]\n"
     ]
    },
    {
     "name": "stdout",
     "output_type": "stream",
     "text": [
      "Epoch37 loss : \n",
      "teacher 1 loss = 0.003039778210222721,student loss = 0.0022415476851165295\n",
      "Epoch: 38/100 --- < Starting Time : Tue Aug 13 14:37:02 2024 >\n",
      "--------------------------------------------------------------\n"
     ]
    },
    {
     "name": "stderr",
     "output_type": "stream",
     "text": [
      "100%|██████████| 65/65 [00:07<00:00,  8.56it/s]\n"
     ]
    },
    {
     "name": "stdout",
     "output_type": "stream",
     "text": [
      "Epoch38 loss : \n",
      "teacher 1 loss = 0.0030373898334801197,student loss = 0.0021796012297272682\n",
      "Epoch: 39/100 --- < Starting Time : Tue Aug 13 14:37:20 2024 >\n",
      "--------------------------------------------------------------\n"
     ]
    },
    {
     "name": "stderr",
     "output_type": "stream",
     "text": [
      "100%|██████████| 65/65 [00:07<00:00,  8.54it/s]\n"
     ]
    },
    {
     "name": "stdout",
     "output_type": "stream",
     "text": [
      "Epoch39 loss : \n",
      "teacher 1 loss = 0.003068830817937851,student loss = 0.0022350505460053682\n",
      "Epoch: 40/100 --- < Starting Time : Tue Aug 13 14:37:38 2024 >\n",
      "--------------------------------------------------------------\n"
     ]
    },
    {
     "name": "stderr",
     "output_type": "stream",
     "text": [
      "100%|██████████| 65/65 [00:07<00:00,  8.53it/s]\n"
     ]
    },
    {
     "name": "stdout",
     "output_type": "stream",
     "text": [
      "Epoch40 loss : \n",
      "teacher 1 loss = 0.0032755343709141016,student loss = 0.002179386094212532\n",
      "Epoch: 41/100 --- < Starting Time : Tue Aug 13 14:37:56 2024 >\n",
      "--------------------------------------------------------------\n"
     ]
    },
    {
     "name": "stderr",
     "output_type": "stream",
     "text": [
      "100%|██████████| 65/65 [00:07<00:00,  8.49it/s]\n"
     ]
    },
    {
     "name": "stdout",
     "output_type": "stream",
     "text": [
      "Epoch41 loss : \n",
      "teacher 1 loss = 0.0028566380497068167,student loss = 0.002067418536171317\n",
      "Epoch: 42/100 --- < Starting Time : Tue Aug 13 14:38:14 2024 >\n",
      "--------------------------------------------------------------\n"
     ]
    },
    {
     "name": "stderr",
     "output_type": "stream",
     "text": [
      "100%|██████████| 65/65 [00:07<00:00,  8.49it/s]\n"
     ]
    },
    {
     "name": "stdout",
     "output_type": "stream",
     "text": [
      "Epoch42 loss : \n",
      "teacher 1 loss = 0.0027331120800226927,student loss = 0.002012968994677067\n",
      "Epoch: 43/100 --- < Starting Time : Tue Aug 13 14:38:32 2024 >\n",
      "--------------------------------------------------------------\n"
     ]
    },
    {
     "name": "stderr",
     "output_type": "stream",
     "text": [
      "100%|██████████| 65/65 [00:07<00:00,  8.58it/s]\n"
     ]
    },
    {
     "name": "stdout",
     "output_type": "stream",
     "text": [
      "Epoch43 loss : \n",
      "teacher 1 loss = 0.0026959734968841076,student loss = 0.002007765229791403\n",
      "Epoch: 44/100 --- < Starting Time : Tue Aug 13 14:38:49 2024 >\n",
      "--------------------------------------------------------------\n"
     ]
    },
    {
     "name": "stderr",
     "output_type": "stream",
     "text": [
      "100%|██████████| 65/65 [00:07<00:00,  8.60it/s]\n"
     ]
    },
    {
     "name": "stdout",
     "output_type": "stream",
     "text": [
      "Epoch44 loss : \n",
      "teacher 1 loss = 0.0026628291234374046,student loss = 0.0019237218657508492\n",
      "Epoch: 45/100 --- < Starting Time : Tue Aug 13 14:39:07 2024 >\n",
      "--------------------------------------------------------------\n"
     ]
    },
    {
     "name": "stderr",
     "output_type": "stream",
     "text": [
      "100%|██████████| 65/65 [00:07<00:00,  8.53it/s]\n"
     ]
    },
    {
     "name": "stdout",
     "output_type": "stream",
     "text": [
      "Epoch45 loss : \n",
      "teacher 1 loss = 0.002617275109514594,student loss = 0.0018773437477648258\n",
      "Epoch: 46/100 --- < Starting Time : Tue Aug 13 14:39:25 2024 >\n",
      "--------------------------------------------------------------\n"
     ]
    },
    {
     "name": "stderr",
     "output_type": "stream",
     "text": [
      "100%|██████████| 65/65 [00:07<00:00,  8.58it/s]\n"
     ]
    },
    {
     "name": "stdout",
     "output_type": "stream",
     "text": [
      "Epoch46 loss : \n",
      "teacher 1 loss = 0.002527697244659066,student loss = 0.0018980383174493909\n",
      "Epoch: 47/100 --- < Starting Time : Tue Aug 13 14:39:43 2024 >\n",
      "--------------------------------------------------------------\n"
     ]
    },
    {
     "name": "stderr",
     "output_type": "stream",
     "text": [
      "100%|██████████| 65/65 [00:07<00:00,  8.56it/s]\n"
     ]
    },
    {
     "name": "stdout",
     "output_type": "stream",
     "text": [
      "Epoch47 loss : \n",
      "teacher 1 loss = 0.002544473623856902,student loss = 0.0019101044163107872\n",
      "Epoch: 48/100 --- < Starting Time : Tue Aug 13 14:40:01 2024 >\n",
      "--------------------------------------------------------------\n"
     ]
    },
    {
     "name": "stderr",
     "output_type": "stream",
     "text": [
      "100%|██████████| 65/65 [00:07<00:00,  8.53it/s]\n"
     ]
    },
    {
     "name": "stdout",
     "output_type": "stream",
     "text": [
      "Epoch48 loss : \n",
      "teacher 1 loss = 0.0024472458753734827,student loss = 0.001850693253800273\n",
      "Epoch: 49/100 --- < Starting Time : Tue Aug 13 14:40:19 2024 >\n",
      "--------------------------------------------------------------\n"
     ]
    },
    {
     "name": "stderr",
     "output_type": "stream",
     "text": [
      "100%|██████████| 65/65 [00:07<00:00,  8.51it/s]\n"
     ]
    },
    {
     "name": "stdout",
     "output_type": "stream",
     "text": [
      "Epoch49 loss : \n",
      "teacher 1 loss = 0.002386206528171897,student loss = 0.0018569071544334292\n",
      "Epoch: 50/100 --- < Starting Time : Tue Aug 13 14:40:37 2024 >\n",
      "--------------------------------------------------------------\n"
     ]
    },
    {
     "name": "stderr",
     "output_type": "stream",
     "text": [
      "100%|██████████| 65/65 [00:07<00:00,  8.53it/s]\n"
     ]
    },
    {
     "name": "stdout",
     "output_type": "stream",
     "text": [
      "Epoch50 loss : \n",
      "teacher 1 loss = 0.0022752350196242332,student loss = 0.0018240032950416207\n",
      "Epoch: 51/100 --- < Starting Time : Tue Aug 13 14:40:55 2024 >\n",
      "--------------------------------------------------------------\n"
     ]
    },
    {
     "name": "stderr",
     "output_type": "stream",
     "text": [
      "100%|██████████| 65/65 [00:07<00:00,  8.51it/s]\n"
     ]
    },
    {
     "name": "stdout",
     "output_type": "stream",
     "text": [
      "Epoch51 loss : \n",
      "teacher 1 loss = 0.0023661586456000805,student loss = 0.0017691327957436442\n",
      "Epoch: 52/100 --- < Starting Time : Tue Aug 13 14:41:12 2024 >\n",
      "--------------------------------------------------------------\n"
     ]
    },
    {
     "name": "stderr",
     "output_type": "stream",
     "text": [
      "100%|██████████| 65/65 [00:07<00:00,  8.55it/s]\n"
     ]
    },
    {
     "name": "stdout",
     "output_type": "stream",
     "text": [
      "Epoch52 loss : \n",
      "teacher 1 loss = 0.0023841639049351215,student loss = 0.001780339633114636\n",
      "Epoch: 53/100 --- < Starting Time : Tue Aug 13 14:41:30 2024 >\n",
      "--------------------------------------------------------------\n"
     ]
    },
    {
     "name": "stderr",
     "output_type": "stream",
     "text": [
      "100%|██████████| 65/65 [00:07<00:00,  8.61it/s]\n"
     ]
    },
    {
     "name": "stdout",
     "output_type": "stream",
     "text": [
      "Epoch53 loss : \n",
      "teacher 1 loss = 0.002373626222833991,student loss = 0.0018058603163808584\n",
      "Epoch: 54/100 --- < Starting Time : Tue Aug 13 14:41:48 2024 >\n",
      "--------------------------------------------------------------\n"
     ]
    },
    {
     "name": "stderr",
     "output_type": "stream",
     "text": [
      "100%|██████████| 65/65 [00:07<00:00,  8.59it/s]\n"
     ]
    },
    {
     "name": "stdout",
     "output_type": "stream",
     "text": [
      "Epoch54 loss : \n",
      "teacher 1 loss = 0.002369434107095003,student loss = 0.0017900635721161962\n",
      "Epoch: 55/100 --- < Starting Time : Tue Aug 13 14:42:06 2024 >\n",
      "--------------------------------------------------------------\n"
     ]
    },
    {
     "name": "stderr",
     "output_type": "stream",
     "text": [
      "100%|██████████| 65/65 [00:07<00:00,  8.58it/s]\n"
     ]
    },
    {
     "name": "stdout",
     "output_type": "stream",
     "text": [
      "Epoch55 loss : \n",
      "teacher 1 loss = 0.0022601443342864513,student loss = 0.001736452803015709\n",
      "Epoch: 56/100 --- < Starting Time : Tue Aug 13 14:42:24 2024 >\n",
      "--------------------------------------------------------------\n"
     ]
    },
    {
     "name": "stderr",
     "output_type": "stream",
     "text": [
      "100%|██████████| 65/65 [00:07<00:00,  8.53it/s]\n"
     ]
    },
    {
     "name": "stdout",
     "output_type": "stream",
     "text": [
      "Epoch56 loss : \n",
      "teacher 1 loss = 0.002259261906147003,student loss = 0.0017281308537349105\n",
      "Epoch: 57/100 --- < Starting Time : Tue Aug 13 14:42:41 2024 >\n",
      "--------------------------------------------------------------\n"
     ]
    },
    {
     "name": "stderr",
     "output_type": "stream",
     "text": [
      "100%|██████████| 65/65 [00:07<00:00,  8.56it/s]\n"
     ]
    },
    {
     "name": "stdout",
     "output_type": "stream",
     "text": [
      "Epoch57 loss : \n",
      "teacher 1 loss = 0.0021386209409683943,student loss = 0.0016921552596613765\n",
      "Epoch: 58/100 --- < Starting Time : Tue Aug 13 14:42:59 2024 >\n",
      "--------------------------------------------------------------\n"
     ]
    },
    {
     "name": "stderr",
     "output_type": "stream",
     "text": [
      "100%|██████████| 65/65 [00:07<00:00,  8.54it/s]\n"
     ]
    },
    {
     "name": "stdout",
     "output_type": "stream",
     "text": [
      "Epoch58 loss : \n",
      "teacher 1 loss = 0.0023500421084463596,student loss = 0.001723550260066986\n",
      "Epoch: 59/100 --- < Starting Time : Tue Aug 13 14:43:17 2024 >\n",
      "--------------------------------------------------------------\n"
     ]
    },
    {
     "name": "stderr",
     "output_type": "stream",
     "text": [
      "100%|██████████| 65/65 [00:07<00:00,  8.56it/s]\n"
     ]
    },
    {
     "name": "stdout",
     "output_type": "stream",
     "text": [
      "Epoch59 loss : \n",
      "teacher 1 loss = 0.0024901563301682472,student loss = 0.0016520177014172077\n",
      "Epoch: 60/100 --- < Starting Time : Tue Aug 13 14:43:35 2024 >\n",
      "--------------------------------------------------------------\n"
     ]
    },
    {
     "name": "stderr",
     "output_type": "stream",
     "text": [
      "100%|██████████| 65/65 [00:07<00:00,  8.54it/s]\n"
     ]
    },
    {
     "name": "stdout",
     "output_type": "stream",
     "text": [
      "Epoch60 loss : \n",
      "teacher 1 loss = 0.0023514628410339355,student loss = 0.0017406577244400978\n",
      "Epoch: 61/100 --- < Starting Time : Tue Aug 13 14:43:53 2024 >\n",
      "--------------------------------------------------------------\n"
     ]
    },
    {
     "name": "stderr",
     "output_type": "stream",
     "text": [
      "100%|██████████| 65/65 [00:07<00:00,  8.52it/s]\n"
     ]
    },
    {
     "name": "stdout",
     "output_type": "stream",
     "text": [
      "Epoch61 loss : \n",
      "teacher 1 loss = 0.0022547703702002764,student loss = 0.0016704668523743749\n",
      "Epoch: 62/100 --- < Starting Time : Tue Aug 13 14:44:11 2024 >\n",
      "--------------------------------------------------------------\n"
     ]
    },
    {
     "name": "stderr",
     "output_type": "stream",
     "text": [
      "100%|██████████| 65/65 [00:07<00:00,  8.52it/s]\n"
     ]
    },
    {
     "name": "stdout",
     "output_type": "stream",
     "text": [
      "Epoch62 loss : \n",
      "teacher 1 loss = 0.002183044096454978,student loss = 0.0016643520211800933\n",
      "Epoch: 63/100 --- < Starting Time : Tue Aug 13 14:44:28 2024 >\n",
      "--------------------------------------------------------------\n"
     ]
    },
    {
     "name": "stderr",
     "output_type": "stream",
     "text": [
      "100%|██████████| 65/65 [00:07<00:00,  8.49it/s]\n"
     ]
    },
    {
     "name": "stdout",
     "output_type": "stream",
     "text": [
      "Epoch63 loss : \n",
      "teacher 1 loss = 0.00207954621873796,student loss = 0.001631007413379848\n",
      "Epoch: 64/100 --- < Starting Time : Tue Aug 13 14:44:46 2024 >\n",
      "--------------------------------------------------------------\n"
     ]
    },
    {
     "name": "stderr",
     "output_type": "stream",
     "text": [
      "100%|██████████| 65/65 [00:07<00:00,  8.49it/s]\n"
     ]
    },
    {
     "name": "stdout",
     "output_type": "stream",
     "text": [
      "Epoch64 loss : \n",
      "teacher 1 loss = 0.0020518130622804165,student loss = 0.001591887790709734\n",
      "teacher 1 : mIoU = 0.9409825589939406, DCS = 0.9388461307874452\n",
      "student : mIoU = 0.9527473859041209, DCS = 0.9505998704320805\n",
      "Epoch: 65/100 --- < Starting Time : Tue Aug 13 14:45:04 2024 >\n",
      "--------------------------------------------------------------\n"
     ]
    },
    {
     "name": "stderr",
     "output_type": "stream",
     "text": [
      "100%|██████████| 65/65 [00:07<00:00,  8.45it/s]\n"
     ]
    },
    {
     "name": "stdout",
     "output_type": "stream",
     "text": [
      "Epoch65 loss : \n",
      "teacher 1 loss = 0.001912886742502451,student loss = 0.0015544912312179804\n",
      "EarlyStopping counter: 1 out of 5\n",
      "teacher 1 : mIoU = 0.9441479993792371, DCS = 0.9421559858524381\n",
      "student : mIoU = 0.9529227271823548, DCS = 0.9507161277303886\n",
      "Epoch: 66/100 --- < Starting Time : Tue Aug 13 14:45:22 2024 >\n",
      "--------------------------------------------------------------\n"
     ]
    },
    {
     "name": "stderr",
     "output_type": "stream",
     "text": [
      "100%|██████████| 65/65 [00:07<00:00,  8.47it/s]\n"
     ]
    },
    {
     "name": "stdout",
     "output_type": "stream",
     "text": [
      "Epoch66 loss : \n",
      "teacher 1 loss = 0.002025735331699252,student loss = 0.0015659742057323456\n",
      "EarlyStopping counter: 2 out of 5\n",
      "teacher 1 : mIoU = 0.941863084614813, DCS = 0.939414844821166\n",
      "student : mIoU = 0.9540556995684945, DCS = 0.9524773460852598\n",
      "Epoch: 67/100 --- < Starting Time : Tue Aug 13 14:45:40 2024 >\n",
      "--------------------------------------------------------------\n"
     ]
    },
    {
     "name": "stderr",
     "output_type": "stream",
     "text": [
      "100%|██████████| 65/65 [00:07<00:00,  8.54it/s]\n"
     ]
    },
    {
     "name": "stdout",
     "output_type": "stream",
     "text": [
      "Epoch67 loss : \n",
      "teacher 1 loss = 0.002027894603088498,student loss = 0.0015468953642994165\n",
      "EarlyStopping counter: 3 out of 5\n",
      "teacher 1 : mIoU = 0.9433891698848176, DCS = 0.9423558374378442\n",
      "student : mIoU = 0.9535409537054232, DCS = 0.9513591946499226\n",
      "Epoch: 68/100 --- < Starting Time : Tue Aug 13 14:45:58 2024 >\n",
      "--------------------------------------------------------------\n"
     ]
    },
    {
     "name": "stderr",
     "output_type": "stream",
     "text": [
      "100%|██████████| 65/65 [00:07<00:00,  8.51it/s]\n"
     ]
    },
    {
     "name": "stdout",
     "output_type": "stream",
     "text": [
      "Epoch68 loss : \n",
      "teacher 1 loss = 0.001890041516162455,student loss = 0.001503169653005898\n",
      "EarlyStopping counter: 4 out of 5\n",
      "teacher 1 : mIoU = 0.9460555899984708, DCS = 0.9450222220300722\n",
      "student : mIoU = 0.9555082590094238, DCS = 0.9543239636006127\n",
      "Epoch: 69/100 --- < Starting Time : Tue Aug 13 14:46:16 2024 >\n",
      "--------------------------------------------------------------\n"
     ]
    },
    {
     "name": "stderr",
     "output_type": "stream",
     "text": [
      "100%|██████████| 65/65 [00:07<00:00,  8.52it/s]\n"
     ]
    },
    {
     "name": "stdout",
     "output_type": "stream",
     "text": [
      "Epoch69 loss : \n",
      "teacher 1 loss = 0.00188035040628165,student loss = 0.0015231571160256863\n",
      "EarlyStopping counter: 5 out of 5\n",
      "teacher 1 : mIoU = 0.9466917108369775, DCS = 0.9455752142842838\n",
      "student : mIoU = 0.9556718484221477, DCS = 0.9553598934574623\n",
      "Early stopping\n"
     ]
    }
   ],
   "source": [
    "# warm\n",
    "from Utils.early_stop import EarlyStopping\n",
    "\n",
    "early_stopper = EarlyStopping(patience=5, delta=0.0001)\n",
    "\n",
    "for epoch in range(config['model']['warm_up_epoch']):\n",
    "\n",
    "    epoch_loss_t1 = 0\n",
    "    epoch_loss_s = 0\n",
    "    t1_mIoU, t1_mDice = 0, 0\n",
    "    s_mIoU, s_mDice = 0, 0\n",
    "    \n",
    "    localtime = time.asctime( time.localtime(time.time()) )\n",
    "    print('Epoch: {}/{} --- < Starting Time : {} >'.format(epoch + 1,config['model']['warm_up_epoch'],localtime))\n",
    "    print('-' * len('Epoch: {}/{} --- < Starting Time : {} >'.format(epoch + 1,config['model']['warm_up_epoch'],localtime)))\n",
    "\n",
    "    folder_name = None\n",
    "    folder_name = os.path.join(\"see_image\")\n",
    "    os.makedirs(folder_name, exist_ok=True)\n",
    "\n",
    "    for batch in tqdm(supervised_loader):\n",
    "        image_FA, image_ICG, target_l, id_l = batch\n",
    "        image_FA, image_ICG, target_l, id_l = image_FA.to(device), image_ICG.to(device), target_l.to(device), id_l\n",
    "\n",
    "        for i in range(0, int(target_l.size(0))):\n",
    "            folder_target = os.path.join(folder_name, \"target\")\n",
    "            os.makedirs(folder_target, exist_ok=True)\n",
    "            image = Image.fromarray(np.uint8(target_l[i].detach().cpu().numpy()))\n",
    "            image.save(os.path.join(folder_target, str(id_l[i]) + \".png\"))\n",
    "\n",
    "        # warm teacher\n",
    "        model_t1.train()\n",
    "        model_s.eval()\n",
    "        optimizer_t1.zero_grad()\n",
    "        loss_t1, outputs = model_t1(x_FA=image_FA, x_ICG=image_ICG, target_l=target_l,\n",
    "                           warm_up=True,mix_up=False)\n",
    "        output_t1 = outputs[\"sup_pred\"]\n",
    "\n",
    "        # out = torch.argmax(torch.softmax(output_t1, dim=1), dim=1).squeeze(0)\n",
    "        # metric_i = test_single_volume(target_l, out, classes=2)\n",
    "        # metric_list_t1 += np.array(metric_i)\n",
    "        \n",
    "        for i in range(0, int(output_t1.size(0))):\n",
    "            folder_t1_prob = os.path.join(folder_name, \"t1_prob\")\n",
    "            os.makedirs(folder_t1_prob, exist_ok=True)\n",
    "            image_prob = output_t1[i].squeeze().detach()\n",
    "            image_prob = torch.argmax(image_prob, dim=0).cpu().numpy()\n",
    "            image_prob = Image.fromarray((image_prob * 255).astype(np.uint8))\n",
    "            image_prob.save(os.path.join(folder_t1_prob, str(id_l[i]) + \".png\"))\n",
    "\n",
    "        epoch_loss_t1 += loss_t1\n",
    "        loss_t1.backward()\n",
    "        optimizer_t1.step()\n",
    "        # warm student\n",
    "        model_t1.eval()\n",
    "        model_s.train()\n",
    "        optimizer_s.zero_grad()\n",
    "        loss_s, outputs = model_s(x_FA=image_FA, target_l=target_l, x_ul=None, target_ul=None,\n",
    "                           warm_up=True)\n",
    "        output_s = outputs[\"sup_pred\"]\n",
    "\n",
    "        # out = torch.argmax(torch.softmax(output_s, dim=1), dim=1).squeeze(0)\n",
    "        # metric_i = test_single_volume(target_l, out, classes=2)\n",
    "        # metric_list_s += np.array(metric_i)\n",
    "\n",
    "        for i in range(0, int(output_s.size(0))):\n",
    "            folder_s_prob = os.path.join(folder_name, \"s_prob\")\n",
    "            os.makedirs(folder_s_prob, exist_ok=True)\n",
    "            image_prob = output_s[i].squeeze().detach()\n",
    "            image_prob = torch.argmax(image_prob, dim=0).cpu().numpy()\n",
    "            image_prob = Image.fromarray((image_prob * 255).astype(np.uint8))\n",
    "            image_prob.save(os.path.join(folder_s_prob, str(id_l[i]) + \".png\"))\n",
    "\n",
    "        epoch_loss_s += loss_s\n",
    "        loss_s.backward()\n",
    "        optimizer_s.step()\n",
    "\n",
    "    # print(folder_target)\n",
    "    # print(folder_t1_prob)\n",
    "    t1_mIoU, t1_mDice = count_index(folder_t1_prob, folder_target)\n",
    "    s_mIoU, s_mDice = count_index(folder_s_prob, folder_target)\n",
    "\n",
    "    # metric_list_t1 = metric_list_t1 / len(supervised_set)\n",
    "    # # t1_mDice = np.mean(metric_list_t1, axis=0)[0]\n",
    "    # t1_mean_hd95 = np.mean(metric_list_t1, axis=0)[1]\n",
    "\n",
    "    # metric_list_s = metric_list_s / len(supervised_set)\n",
    "    # # s_mDice = np.mean(metric_list_s, axis=0)[0]\n",
    "    # s_mean_hd95 = np.mean(metric_list_s, axis=0)[1]\n",
    "\n",
    "    print(f'Epoch{epoch+1} loss : \\nteacher 1 loss = {epoch_loss_t1/len(supervised_set)},student loss = {epoch_loss_s/len(supervised_set)}')\n",
    "    # print(f'Epoch{epoch+1} loss : \\nteacher 1 loss = {epoch_loss_t1/len(supervised_set)}, teacher 2 loss = {epoch_loss_t2/len(supervised_set)}')\n",
    "    # print(f'Epoch{epoch+1} loss : \\nteacher 1 loss = {epoch_loss_t1/len(supervised_set)}')\n",
    "    # print(f'teacher 1 : mIoU = {t1_mIoU}, DCS = {t1_mDice}')\n",
    "    # print(f'teacher 2 : mIoU = {t2_mIoU}, DCS = {t2_mDice}')\n",
    "    # print(f'student : mIoU = {s_mIoU}, DCS = {s_mDice}')\n",
    "\n",
    "    if s_mDice > 0.95:\n",
    "        early_stopper(epoch_loss_s/len(supervised_set))\n",
    "        print(f'teacher 1 : mIoU = {t1_mIoU}, DCS = {t1_mDice}')\n",
    "        print(f'student : mIoU = {s_mIoU}, DCS = {s_mDice}')\n",
    "        if early_stopper.early_stop: \n",
    "            print(\"Early stopping\")   \n",
    "            break"
   ]
  },
  {
   "cell_type": "code",
   "execution_count": 8,
   "metadata": {},
   "outputs": [],
   "source": [
    "def freeze_teachers_parameters(model):\n",
    "    for p in model.encoder.parameters():\n",
    "        p.requires_grad = False\n",
    "    for p in model.decoder.parameters():\n",
    "        p.requires_grad = False\n",
    "\n",
    "freeze_teachers_parameters(model_t1)\n",
    "\n",
    "def update_teachers(teacher, student, keep_rate=0.996):\n",
    "    student_encoder_dict = student.encoder.state_dict()\n",
    "    student_decoder_dict = student.decoder.state_dict()\n",
    "    new_teacher_encoder_dict = OrderedDict()\n",
    "    new_teacher_decoder_dict = OrderedDict()\n",
    "\n",
    "    for key, value in teacher.encoder.state_dict().items():\n",
    "\n",
    "        if key in student_encoder_dict.keys():\n",
    "            new_teacher_encoder_dict[key] = (\n",
    "                    student_encoder_dict[key] * (1 - keep_rate) + value * keep_rate\n",
    "            )\n",
    "        else:\n",
    "            raise Exception(\"{} is not found in student encoder model\".format(key))\n",
    "\n",
    "    for key, value in teacher.decoder.state_dict().items():\n",
    "\n",
    "        if key in student_decoder_dict.keys():\n",
    "            new_teacher_decoder_dict[key] = (\n",
    "                    student_decoder_dict[key] * (1 - keep_rate) + value * keep_rate\n",
    "            )\n",
    "        else:\n",
    "            raise Exception(\"{} is not found in student decoder model\".format(key))\n",
    "    teacher.encoder.load_state_dict(new_teacher_encoder_dict, strict=True)\n",
    "    teacher.decoder.load_state_dict(new_teacher_decoder_dict, strict=True)"
   ]
  },
  {
   "cell_type": "code",
   "execution_count": 9,
   "metadata": {},
   "outputs": [],
   "source": [
    "def predict_with_out_grad(model_t1, model_t2, image):\n",
    "    with torch.no_grad():\n",
    "        f = model_t1.encoder(image)\n",
    "        _, predict_target_ul1 = model_t1.decoder(f, data_shape=[image.shape[-2], image.shape[-1]])\n",
    "        f = model_t2.encoder(image)\n",
    "        _, predict_target_ul2 = model_t2.decoder(f, data_shape=[image.shape[-2], image.shape[-1]])\n",
    "        \n",
    "        predict_target_ul1 = torch.nn.functional.interpolate(predict_target_ul1,\n",
    "                                                                size=(image.shape[-2], image.shape[-1]),\n",
    "                                                                mode='bilinear',\n",
    "                                                                align_corners=True)\n",
    "\n",
    "        predict_target_ul2 = torch.nn.functional.interpolate(predict_target_ul2,\n",
    "                                                                size=(image.shape[-2], image.shape[-1]),\n",
    "                                                                mode='bilinear',\n",
    "                                                                align_corners=True)\n",
    "\n",
    "        assert predict_target_ul1.shape == predict_target_ul2.shape, \"Expect two prediction in same shape,\"\n",
    "    return predict_target_ul1, predict_target_ul2"
   ]
  },
  {
   "cell_type": "code",
   "execution_count": 10,
   "metadata": {},
   "outputs": [
    {
     "name": "stdout",
     "output_type": "stream",
     "text": [
      "Epoch: 1/80 --- < Starting Time : Tue Aug 13 14:46:35 2024 >\n",
      "------------------------------------------------------------\n"
     ]
    },
    {
     "name": "stderr",
     "output_type": "stream",
     "text": [
      "100%|██████████| 658/658 [02:27<00:00,  4.46it/s]\n",
      "100%|██████████| 162/162 [00:02<00:00, 72.56it/s]\n"
     ]
    },
    {
     "name": "stdout",
     "output_type": "stream",
     "text": [
      "Epoch 1 val:mIoU: 0.5385, DSC: 0.2175\n",
      "Change Best: epoch : 1 mIoU: 0.5385, DSC: 0.2175\n",
      "Best model : epoch : 1 mIoU: 0.5385, DSC: 0.2175\n",
      "Epoch: 2/80 --- < Starting Time : Tue Aug 13 14:49:08 2024 >\n",
      "------------------------------------------------------------\n"
     ]
    },
    {
     "name": "stderr",
     "output_type": "stream",
     "text": [
      "100%|██████████| 658/658 [02:42<00:00,  4.04it/s]\n",
      "100%|██████████| 162/162 [00:01<00:00, 82.35it/s] \n"
     ]
    },
    {
     "name": "stdout",
     "output_type": "stream",
     "text": [
      "Epoch 2 val:mIoU: 0.6401, DSC: 0.4737\n",
      "Change Best: epoch : 2 mIoU: 0.6401, DSC: 0.4737\n",
      "Best model : epoch : 2 mIoU: 0.6401, DSC: 0.4737\n",
      "Epoch: 3/80 --- < Starting Time : Tue Aug 13 14:51:56 2024 >\n",
      "------------------------------------------------------------\n"
     ]
    },
    {
     "name": "stderr",
     "output_type": "stream",
     "text": [
      "100%|██████████| 658/658 [02:44<00:00,  4.00it/s]\n",
      "100%|██████████| 162/162 [00:01<00:00, 82.49it/s] \n"
     ]
    },
    {
     "name": "stdout",
     "output_type": "stream",
     "text": [
      "Epoch 3 val:mIoU: 0.6858, DSC: 0.5569\n",
      "Change Best: epoch : 3 mIoU: 0.6858, DSC: 0.5569\n",
      "Best model : epoch : 3 mIoU: 0.6858, DSC: 0.5569\n",
      "Epoch: 4/80 --- < Starting Time : Tue Aug 13 14:54:45 2024 >\n",
      "------------------------------------------------------------\n"
     ]
    },
    {
     "name": "stderr",
     "output_type": "stream",
     "text": [
      "100%|██████████| 658/658 [02:38<00:00,  4.16it/s]\n",
      "100%|██████████| 162/162 [00:01<00:00, 82.35it/s] \n"
     ]
    },
    {
     "name": "stdout",
     "output_type": "stream",
     "text": [
      "Epoch 4 val:mIoU: 0.6853, DSC: 0.5570\n",
      "Change Best: epoch : 4 mIoU: 0.6853, DSC: 0.5570\n",
      "Best model : epoch : 4 mIoU: 0.6853, DSC: 0.5570\n",
      "Epoch: 5/80 --- < Starting Time : Tue Aug 13 14:57:28 2024 >\n",
      "------------------------------------------------------------\n"
     ]
    },
    {
     "name": "stderr",
     "output_type": "stream",
     "text": [
      "100%|██████████| 658/658 [02:47<00:00,  3.92it/s]\n",
      "100%|██████████| 162/162 [00:01<00:00, 82.58it/s] \n"
     ]
    },
    {
     "name": "stdout",
     "output_type": "stream",
     "text": [
      "Epoch 5 val:mIoU: 0.6854, DSC: 0.5573\n",
      "Change Best: epoch : 5 mIoU: 0.6854, DSC: 0.5573\n",
      "Best model : epoch : 5 mIoU: 0.6854, DSC: 0.5573\n",
      "Epoch: 6/80 --- < Starting Time : Tue Aug 13 15:00:21 2024 >\n",
      "------------------------------------------------------------\n"
     ]
    },
    {
     "name": "stderr",
     "output_type": "stream",
     "text": [
      "100%|██████████| 658/658 [02:42<00:00,  4.04it/s]\n",
      "100%|██████████| 162/162 [00:01<00:00, 82.60it/s] \n"
     ]
    },
    {
     "name": "stdout",
     "output_type": "stream",
     "text": [
      "Epoch 6 val:mIoU: 0.6850, DSC: 0.5568\n",
      "EarlyStop DSC =  0.557278733088501\n",
      "Best model : epoch : 5 mIoU: 0.6854, DSC: 0.5573\n",
      "Epoch: 7/80 --- < Starting Time : Tue Aug 13 15:03:09 2024 >\n",
      "------------------------------------------------------------\n"
     ]
    },
    {
     "name": "stderr",
     "output_type": "stream",
     "text": [
      "100%|██████████| 658/658 [02:44<00:00,  3.99it/s]\n",
      "100%|██████████| 162/162 [00:01<00:00, 82.99it/s] \n"
     ]
    },
    {
     "name": "stdout",
     "output_type": "stream",
     "text": [
      "Epoch 7 val:mIoU: 0.6840, DSC: 0.5550\n",
      "EarlyStop DSC =  0.5549714703108378\n",
      "EarlyStop Best DSC =  0.556278733088501\n",
      "EarlyStopping counter: 1 out of 5\n",
      "Best model : epoch : 5 mIoU: 0.6854, DSC: 0.5573\n",
      "Epoch: 8/80 --- < Starting Time : Tue Aug 13 15:05:59 2024 >\n",
      "------------------------------------------------------------\n"
     ]
    },
    {
     "name": "stderr",
     "output_type": "stream",
     "text": [
      "100%|██████████| 658/658 [02:45<00:00,  3.99it/s]\n",
      "100%|██████████| 162/162 [00:01<00:00, 83.04it/s] \n"
     ]
    },
    {
     "name": "stdout",
     "output_type": "stream",
     "text": [
      "Epoch 8 val:mIoU: 0.6841, DSC: 0.5554\n",
      "EarlyStop DSC =  0.5554049079029798\n",
      "EarlyStop Best DSC =  0.556278733088501\n",
      "EarlyStopping counter: 2 out of 5\n",
      "Best model : epoch : 5 mIoU: 0.6854, DSC: 0.5573\n",
      "Epoch: 9/80 --- < Starting Time : Tue Aug 13 15:08:49 2024 >\n",
      "------------------------------------------------------------\n"
     ]
    },
    {
     "name": "stderr",
     "output_type": "stream",
     "text": [
      "100%|██████████| 658/658 [02:45<00:00,  3.97it/s]\n",
      "100%|██████████| 162/162 [00:01<00:00, 82.74it/s] \n"
     ]
    },
    {
     "name": "stdout",
     "output_type": "stream",
     "text": [
      "Epoch 9 val:mIoU: 0.6834, DSC: 0.5544\n",
      "EarlyStop DSC =  0.5543874594261096\n",
      "EarlyStop Best DSC =  0.556278733088501\n",
      "EarlyStopping counter: 3 out of 5\n",
      "Best model : epoch : 5 mIoU: 0.6854, DSC: 0.5573\n",
      "Epoch: 10/80 --- < Starting Time : Tue Aug 13 15:11:40 2024 >\n",
      "-------------------------------------------------------------\n"
     ]
    },
    {
     "name": "stderr",
     "output_type": "stream",
     "text": [
      "100%|██████████| 658/658 [02:42<00:00,  4.04it/s]\n",
      "100%|██████████| 162/162 [00:01<00:00, 82.58it/s] \n"
     ]
    },
    {
     "name": "stdout",
     "output_type": "stream",
     "text": [
      "Epoch 10 val:mIoU: 0.6848, DSC: 0.5568\n",
      "EarlyStop DSC =  0.557278733088501\n",
      "Best model : epoch : 5 mIoU: 0.6854, DSC: 0.5573\n",
      "Epoch: 11/80 --- < Starting Time : Tue Aug 13 15:14:28 2024 >\n",
      "-------------------------------------------------------------\n"
     ]
    },
    {
     "name": "stderr",
     "output_type": "stream",
     "text": [
      "100%|██████████| 658/658 [02:45<00:00,  3.98it/s]\n",
      "100%|██████████| 162/162 [00:01<00:00, 82.56it/s]\n"
     ]
    },
    {
     "name": "stdout",
     "output_type": "stream",
     "text": [
      "Epoch 11 val:mIoU: 0.6843, DSC: 0.5559\n",
      "EarlyStop DSC =  0.5558736343862044\n",
      "EarlyStop Best DSC =  0.556278733088501\n",
      "EarlyStopping counter: 1 out of 5\n",
      "Best model : epoch : 5 mIoU: 0.6854, DSC: 0.5573\n",
      "Epoch: 12/80 --- < Starting Time : Tue Aug 13 15:17:18 2024 >\n",
      "-------------------------------------------------------------\n"
     ]
    },
    {
     "name": "stderr",
     "output_type": "stream",
     "text": [
      "100%|██████████| 658/658 [02:44<00:00,  4.01it/s]\n",
      "100%|██████████| 162/162 [00:01<00:00, 82.50it/s] \n"
     ]
    },
    {
     "name": "stdout",
     "output_type": "stream",
     "text": [
      "Epoch 12 val:mIoU: 0.6832, DSC: 0.5534\n",
      "EarlyStop DSC =  0.5534141605488178\n",
      "EarlyStop Best DSC =  0.556278733088501\n",
      "EarlyStopping counter: 2 out of 5\n",
      "Best model : epoch : 5 mIoU: 0.6854, DSC: 0.5573\n",
      "Epoch: 13/80 --- < Starting Time : Tue Aug 13 15:20:07 2024 >\n",
      "-------------------------------------------------------------\n"
     ]
    },
    {
     "name": "stderr",
     "output_type": "stream",
     "text": [
      "100%|██████████| 658/658 [02:41<00:00,  4.08it/s]\n",
      "100%|██████████| 162/162 [00:01<00:00, 81.33it/s] \n"
     ]
    },
    {
     "name": "stdout",
     "output_type": "stream",
     "text": [
      "Epoch 13 val:mIoU: 0.6833, DSC: 0.5540\n",
      "EarlyStop DSC =  0.5540308281487685\n",
      "EarlyStop Best DSC =  0.556278733088501\n",
      "EarlyStopping counter: 3 out of 5\n",
      "Best model : epoch : 5 mIoU: 0.6854, DSC: 0.5573\n",
      "Epoch: 14/80 --- < Starting Time : Tue Aug 13 15:22:54 2024 >\n",
      "-------------------------------------------------------------\n"
     ]
    },
    {
     "name": "stderr",
     "output_type": "stream",
     "text": [
      "100%|██████████| 658/658 [02:42<00:00,  4.04it/s]\n",
      "100%|██████████| 162/162 [00:01<00:00, 82.25it/s] \n"
     ]
    },
    {
     "name": "stdout",
     "output_type": "stream",
     "text": [
      "Epoch 14 val:mIoU: 0.6842, DSC: 0.5555\n",
      "EarlyStop DSC =  0.5555455992442307\n",
      "EarlyStop Best DSC =  0.556278733088501\n",
      "EarlyStopping counter: 4 out of 5\n",
      "Best model : epoch : 5 mIoU: 0.6854, DSC: 0.5573\n",
      "Epoch: 15/80 --- < Starting Time : Tue Aug 13 15:25:42 2024 >\n",
      "-------------------------------------------------------------\n"
     ]
    },
    {
     "name": "stderr",
     "output_type": "stream",
     "text": [
      "100%|██████████| 658/658 [02:35<00:00,  4.24it/s]\n",
      "100%|██████████| 162/162 [00:01<00:00, 82.42it/s] \n"
     ]
    },
    {
     "name": "stdout",
     "output_type": "stream",
     "text": [
      "Epoch 15 val:mIoU: 0.6832, DSC: 0.5540\n",
      "EarlyStop DSC =  0.5539935899995714\n",
      "EarlyStop Best DSC =  0.556278733088501\n",
      "EarlyStopping counter: 5 out of 5\n",
      "Early stopping\n"
     ]
    }
   ],
   "source": [
    "# semi train\n",
    "from Utils.early_stop import EarlyStopper\n",
    "\n",
    "early_stopper = EarlyStopper(patience=5, delta=0.001)\n",
    "\n",
    "best_model_t1_params = copy.deepcopy(model_t1.state_dict())\n",
    "best_model_s_params = copy.deepcopy(model_s.state_dict())\n",
    "do_best_Dice = 0\n",
    "do_best_mIoU = 0\n",
    "# do_best_hd95 = 100000\n",
    "do_best_epoch = 0\n",
    "\n",
    "for epoch in range(config['model']['epochs']):\n",
    "\n",
    "    model_s.train()\n",
    "    epoch_loss = 0\n",
    "    epoch_dsc = 0\n",
    "\n",
    "    dataloader = iter(zip(cycle(supervised_loader), unsupervised_loader))\n",
    "\n",
    "    localtime = time.asctime( time.localtime(time.time()) )\n",
    "    print('Epoch: {}/{} --- < Starting Time : {} >'.format(epoch + 1,config['model']['epochs'],localtime))\n",
    "    print('-' * len('Epoch: {}/{} --- < Starting Time : {} >'.format(epoch + 1,config['model']['epochs'],localtime)))\n",
    "\n",
    "    tbar = tqdm(range(len(unsupervised_loader)))\n",
    "    for batch_idx in tbar:\n",
    "        (image_FA, image_ICG, target_l, id_l), (input_ul, target_ul, id_ul) = next(dataloader)\n",
    "        image_FA, image_ICG, target_l, id_l = image_FA.to(device), image_ICG.to(device), target_l.to(device), id_l\n",
    "        input_ul, target_ul, id_ul = input_ul.to(device), target_ul.to(device), id_ul\n",
    "        optimizer_s.zero_grad()\n",
    "\n",
    "        with torch.no_grad():\n",
    "            f = model_t1.encoder(input_ul)\n",
    "            _, predict_target_ul1 = model_t1.decoder(f, data_shape=[input_ul.shape[-2], input_ul.shape[-1]])\n",
    "            \n",
    "            predict_target_ul1 = torch.nn.functional.interpolate(predict_target_ul1,\n",
    "                                                                    size=(input_ul.shape[-2], input_ul.shape[-1]),\n",
    "                                                                    mode='bilinear',\n",
    "                                                                    align_corners=True)\n",
    "\n",
    "        total_loss, cur_losses, outputs = model_s(x_FA=image_FA, x_ICG=image_ICG, target_l=target_l,\n",
    "                                                  x_ul=input_ul, target_ul=predict_target_ul1,\n",
    "                                                  epoch=epoch, curr_iter=batch_idx, warm_up=False,\n",
    "                                                  mix_up=False, t1=model_t1, t2=model_t1)\n",
    "        \n",
    "        epoch_loss += total_loss\n",
    "        total_loss.backward()\n",
    "        optimizer_s.step()\n",
    "\n",
    "        with torch.no_grad():\n",
    "            update_teachers(teacher=model_t1,\n",
    "                            student=model_s)\n",
    "\n",
    "    # valiation\n",
    "    # metric_list = 0.0\n",
    "    model_s.eval()\n",
    "    for batch in tqdm(val_loader):\n",
    "        image_val, label, id_val = batch\n",
    "        image_val, label, id_val = image_val.to(device), label.to(device), id_val\n",
    "\n",
    "        H, W = label.size(1), label.size(2)\n",
    "        up_sizes = (ceil(H / 8) * 8, ceil(W / 8) * 8)\n",
    "\n",
    "        for i in range(0, int(label.size(0))):\n",
    "            folder_val = os.path.join(folder_name, \"val_original_target\")\n",
    "            os.makedirs(folder_val, exist_ok=True)\n",
    "            image = Image.fromarray(np.uint8(label[i].detach().cpu().numpy()))\n",
    "            image.save(os.path.join(folder_val, str(id_val[i]) + \".png\"))\n",
    "\n",
    "        data = torch.nn.functional.interpolate(image_val, size=(up_sizes[0], up_sizes[1]),\n",
    "                                               mode='bilinear', align_corners=True)\n",
    "        \n",
    "        with torch.no_grad():\n",
    "            f = model_t1.encoder(data)\n",
    "            _, output = model_t1.decoder(f, data_shape=[data.shape[-2], data.shape[-1]])\n",
    "        output = torch.nn.functional.interpolate(output, size=(H, W),\n",
    "                                                 mode='bilinear', align_corners=True)\n",
    "\n",
    "        for i in range(0, int(output.size(0))):\n",
    "            folder_val_prob = os.path.join(folder_name, \"val_original_prob\")\n",
    "            os.makedirs(folder_val_prob, exist_ok=True)\n",
    "            image_prob = output[i].squeeze().detach()\n",
    "            image_prob = torch.argmax(image_prob, dim=0).cpu().numpy()\n",
    "            image_prob = Image.fromarray((image_prob * 255).astype(np.uint8))\n",
    "            image_prob.save(os.path.join(folder_val_prob, str(id_val[i]) + \".png\"))\n",
    "        \n",
    "    #     out = torch.argmax(torch.softmax(output, dim=1), dim=1).squeeze(0)\n",
    "    #     metric_i = test_single_volume(label, out, classes=2)\n",
    "    #     metric_list += np.array(metric_i)\n",
    "    # metric_list = metric_list / len(val_set)\n",
    "    # # index_mDice = np.mean(metric_list, axis=0)[0]\n",
    "    # index_mean_hd95 = np.mean(metric_list, axis=0)[1]\n",
    "    \n",
    "    # show epoch mIoU, mDice\n",
    "    index_mIoU, index_mDice = count_index(folder_val_prob, folder_val)\n",
    "    # print(f'Epoch {epoch+1}' + \" val:\" + f'DSC: {index_mDice:.4f}, HD95 = {index_mean_hd95:.4f}')\n",
    "    print(f'Epoch {epoch+1}' + \" val:\" + f'mIoU: {index_mIoU:.4f}, DSC: {index_mDice:.4f}')\n",
    "\n",
    "    # find the best mIoU, mDice\n",
    "    # if index_mDice > do_best_Dice and (index_mDice > do_best_Dice or index_mean_hd95 < do_best_hd95):\n",
    "    if index_mDice > do_best_Dice:\n",
    "        early_stopper.best_score = index_mDice\n",
    "        early_stopper.counter = 0\n",
    "        do_best_Dice = index_mDice\n",
    "        do_best_mIoU = index_mIoU\n",
    "        # do_best_hd95 = index_mean_hd95\n",
    "        do_best_epoch = epoch+1\n",
    "        best_model_t1_params = copy.deepcopy(model_t1.state_dict())\n",
    "        best_model_s_params = copy.deepcopy(model_s.state_dict())\n",
    "        # print(\"Change Best: \" + f'epoch: {do_best_epoch} DSC: {do_best_Dice:.4f}, HD95 = {do_best_hd95:.4f}')\n",
    "        print(\"Change Best: \" + f'epoch : {do_best_epoch} mIoU: {do_best_mIoU:.4f}, DSC: {do_best_Dice:.4f}')\n",
    "\n",
    "        # save the best valiation prod\n",
    "        folder_val_best_prob = os.path.join(folder_name, \"val_original_best_prob\")\n",
    "        os.makedirs(folder_val_best_prob, exist_ok=True)\n",
    "        file_names = os.listdir(folder_val_prob)\n",
    "        for file_name in file_names:\n",
    "            source_path = os.path.join(folder_val_prob, file_name)\n",
    "            destination_path = os.path.join(folder_val_best_prob, file_name)\n",
    "            shutil.copyfile(source_path, destination_path)\n",
    "    else:\n",
    "        if epoch >= 5:\n",
    "            early_stopper(index_mDice)\n",
    "    \n",
    "    if early_stopper.early_stop: \n",
    "        print(\"Early stopping\")   \n",
    "        break\n",
    "\n",
    "    # show the best mIoU, mDice\n",
    "    # print(\"Best model : \" + f'epoch : {do_best_epoch}  DSC : {do_best_Dice:.4f}, HD95 = {do_best_hd95:.4f}')\n",
    "    print(\"Best model : \" + f'epoch : {do_best_epoch} mIoU: {do_best_mIoU:.4f}, DSC: {do_best_Dice:.4f}')\n",
    "   "
   ]
  },
  {
   "cell_type": "code",
   "execution_count": 11,
   "metadata": {},
   "outputs": [
    {
     "name": "stdout",
     "output_type": "stream",
     "text": [
      "Best model : epoch : 5  DSC : 0.5573\n"
     ]
    }
   ],
   "source": [
    "# save the best teacher1&2 and student model\n",
    "model_path = None\n",
    "model_path = os.path.join(\"saved_models\")\n",
    "os.makedirs(model_path, exist_ok=True)\n",
    "\n",
    "model_params = os.path.join(model_path, \"original_models\")\n",
    "os.makedirs(model_params, exist_ok=True)\n",
    "\n",
    "torch.save(best_model_t1_params, os.path.join(model_params, f'original_epoch_{do_best_epoch}_dsc_{do_best_Dice:.4f}_best_t1.pth'))\n",
    "torch.save(best_model_s_params, os.path.join(model_params, f'original_epoch_{do_best_epoch}_dsc_{do_best_Dice:.4f}_best_s.pth'))\n",
    "print(\"Best model : \" + f'epoch : {do_best_epoch}  DSC : {do_best_Dice:.4f}')"
   ]
  }
 ],
 "metadata": {
  "kernelspec": {
   "display_name": "ps-mt",
   "language": "python",
   "name": "python3"
  },
  "language_info": {
   "codemirror_mode": {
    "name": "ipython",
    "version": 3
   },
   "file_extension": ".py",
   "mimetype": "text/x-python",
   "name": "python",
   "nbconvert_exporter": "python",
   "pygments_lexer": "ipython3",
   "version": "3.7.12"
  }
 },
 "nbformat": 4,
 "nbformat_minor": 2
}
